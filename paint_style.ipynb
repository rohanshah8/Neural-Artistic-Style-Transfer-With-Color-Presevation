{
 "cells": [
  {
   "cell_type": "code",
   "execution_count": 44,
   "id": "08adf4da",
   "metadata": {
    "collapsed": true
   },
   "outputs": [
    {
     "name": "stderr",
     "output_type": "stream",
     "text": [
      "usage: ipykernel_launcher.py [-h] -c CONTENT -s STYLES [STYLES ...]\n",
      "                             [-o OUTPUT] [--vgg VGG]\n",
      "                             [--content-weight CONTENT_WEIGHT]\n",
      "                             [--style-weight STYLE_WEIGHT]\n",
      "                             [--style-merge-weight STYLE_MERGE_WEIGHT [STYLE_MERGE_WEIGHT ...]]\n",
      "                             [--check-per-iteration CHECK_PER_ITERATION]\n",
      "                             [-a LEARNING_RATE] [-i ITERATIONS]\n",
      "                             [--preserve-color PRESERVE_COLOR]\n",
      "ipykernel_launcher.py: error: the following arguments are required: -c/--content, -s/--styles\n"
     ]
    },
    {
     "ename": "SystemExit",
     "evalue": "2",
     "output_type": "error",
     "traceback": [
      "An exception has occurred, use %tb to see the full traceback.\n",
      "\u001b[0;31mSystemExit\u001b[0m\u001b[0;31m:\u001b[0m 2\n"
     ]
    }
   ],
   "source": [
    "import argparse\n",
    "import time\n",
    "import scipy.misc\n",
    "import numpy as np\n",
    "import style as st\n",
    "\n",
    "# Default values\n",
    "_default_learning_rate = 1e1\n",
    "_default_iterations = 1000\n",
    "_default_content_weight = 1e0\n",
    "_default_style_weight = 1e3\n",
    "_default_check_per_iteration = 100\n",
    "_default_vgg = 'imagenet-vgg-verydeep-19.mat'\n",
    "_default_output = 'hongkong.jpg'#output\n",
    "_default_preserve_color = False\n",
    "\n",
    "\n",
    "def parse_arguments():\n",
    "    parser = argparse.ArgumentParser()\n",
    "\n",
    "    parser.add_argument('-c', '--content', dest = 'content', help = 'Input content image', required = True)\n",
    "    parser.add_argument('-s', '--styles', dest = 'styles', nargs = '+', help = 'Style image(s)', required = True)\n",
    "    parser.add_argument('-o', '--output', dest = 'output', help = 'Output image', default = _default_output)\n",
    "    parser.add_argument('--vgg', dest = 'vgg', help = 'Path to pretrained vgg19 network', default = _default_vgg)\n",
    "    parser.add_argument('--content-weight', type = float, dest = 'content_weight', help = 'Weight for content (input) image', default = _default_content_weight)\n",
    "    parser.add_argument('--style-weight', type = float, dest = 'style_weight', help = 'Weight for style image', default = _default_style_weight)\n",
    "    parser.add_argument('--style-merge-weight', type = float, dest = 'style_merge_weight', nargs = '+', help = 'Weights for style merges', default = None)\n",
    "    parser.add_argument('--check-per-iteration', type = int, dest = 'check_per_iteration', help = 'Frequency of checking current loss', default = _default_check_per_iteration)\n",
    "    parser.add_argument('-a', '--learning-rate', type = float, dest = 'learning_rate', help = 'Learning rate for neural network', default = _default_learning_rate)\n",
    "    parser.add_argument('-i', '--iterations', type = int, dest = 'iterations', help = 'Max iterations', default = _default_iterations)\n",
    "    parser.add_argument('--preserve-color', type = bool, dest = 'preserve_color', help = 'Preserve color scheme of original content', default = _default_preserve_color)\n",
    "\n",
    "\n",
    "    return parser.parse_args()\n",
    "\n",
    "def run(arguments):\n",
    "    # Load images\n",
    "    print(arguments.content)\n",
    "    content = scipy.misc.imread(arguments.content).astype(np.float)\n",
    "\n",
    "    styles = [scipy.misc.imread(style).astype(np.float) for style in arguments.styles]\n",
    "\n",
    "    for style in styles:\n",
    "        # Resize style image so it is the same size as content\n",
    "        style = scipy.misc.imresize(style, content.shape[1] / style.shape[1])\n",
    "\n",
    "\n",
    "    print(\"Running neural style algorithm. Output will be stored in: \" + arguments.output)\n",
    "\n",
    "    result = st.convert_style(\n",
    "                net_path = arguments.vgg,\n",
    "                content = content, \n",
    "                styles = styles, \n",
    "                iterations = arguments.iterations, \n",
    "                content_weight = arguments.content_weight, \n",
    "                style_weight = arguments.style_weight, \n",
    "                style_merge_weight = arguments.style_merge_weight,\n",
    "                learning_rate = arguments.learning_rate,\n",
    "                check_per_iteration = arguments.check_per_iteration,\n",
    "                preserve_color = arguments.preserve_color\n",
    "            )\n",
    "\n",
    "    # Convert result from float image to uint8 image\n",
    "    result = np.clip(result, 0, 255).astype(np.uint8)\n",
    "\n",
    "    # Save image\n",
    "    scipy.misc.imsave(arguments.output, result)\n",
    "\n",
    "if __name__ == '__main__':\n",
    "    t = time.time()\n",
    "\n",
    "    run(parse_arguments())\n",
    "\n",
    "    print(\"Processing complete. Time elapsed:\")\n",
    "    second = time.time() - t\n",
    "    hour = int(second / 3600)\n",
    "    second -= hour * 3600\n",
    "    minute = int(second / 60)\n",
    "    second -= minute * 60\n",
    "    print(\"{0} Hours, {1} Minutes and {2} Seconds\".format(hour, minute, second))"
   ]
  }
 ],
 "metadata": {
  "kernelspec": {
   "display_name": "Python 3",
   "language": "python",
   "name": "python3"
  },
  "language_info": {
   "codemirror_mode": {
    "name": "ipython",
    "version": 3
   },
   "file_extension": ".py",
   "mimetype": "text/x-python",
   "name": "python",
   "nbconvert_exporter": "python",
   "pygments_lexer": "ipython3",
   "version": "3.6.8"
  }
 },
 "nbformat": 4,
 "nbformat_minor": 5
}
